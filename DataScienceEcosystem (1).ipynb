{
 "cells": [
  {
   "cell_type": "markdown",
   "id": "13513a2b-eee8-42e4-a92f-331f32741d99",
   "metadata": {},
   "source": [
    "Creating a markdown cell with title of the notebook\n",
    "\n",
    "# Data Science Tools and Ecosystem"
   ]
  },
  {
   "cell_type": "markdown",
   "id": "e17b8a52-07f3-4e55-994e-72eaee3e187b",
   "metadata": {},
   "source": [
    "Creating a markdown cell for an introduction\n",
    "\n",
    "\n",
    "In this notebook, Data Science Tools and Ecosystem are summarized."
   ]
  },
  {
   "cell_type": "markdown",
   "id": "88e64977-ed8b-4956-bf82-de16771c7f7d",
   "metadata": {},
   "source": [
    "**Objectives:**\n",
    "\n",
    "- Python\n",
    "- Julia\n",
    "- R\n",
    "- Jupyter\n",
    "- SQL"
   ]
  },
  {
   "cell_type": "markdown",
   "id": "7c66f227-15b0-49b9-a291-6b6ec6e31731",
   "metadata": {},
   "source": [
    "Creating a markdown cell to list the data science languages\n",
    "\n",
    "Some of the popular languages that Data Scientists use are:\n",
    "\n",
    "1. Python\n",
    "2. R\n",
    "3. SQL\n",
    "4. Java "
   ]
  },
  {
   "cell_type": "markdown",
   "id": "6703ecbb-fa7e-4578-b5b9-615a4ffab127",
   "metadata": {},
   "source": [
    "Creating a markdown cell to list data science libraries\n",
    "\n",
    "Some of the commonly used libraries used by Data Scientists include:\n",
    "\n",
    "1. NumPy\n",
    "2. SciPy\n",
    "3. Pandas\n",
    "4. Matplotlib"
   ]
  },
  {
   "cell_type": "markdown",
   "id": "29124537-939f-47c0-a428-5018a7ed6ac2",
   "metadata": {},
   "source": [
    "Creating a markdown cell with a table of Data Science tools\n",
    "\n",
    "| Data Science Tools | \n",
    "| -------------| \n",
    "| Jupyter | \n",
    "| R | \n",
    "| Python | "
   ]
  },
  {
   "cell_type": "markdown",
   "id": "da26ee26-65c2-4bac-89f7-5a2e2914bd5e",
   "metadata": {},
   "source": [
    "Creating a markdown cell introducing arithmetic expression examples\n",
    "\n",
    "### Below are a few examples of evaluating arithmetic expressions in Python:"
   ]
  },
  {
   "cell_type": "code",
   "execution_count": 1,
   "id": "8fd2e3b0-be88-465c-9225-d36a888a3e5c",
   "metadata": {},
   "outputs": [
    {
     "data": {
      "text/plain": [
       "17"
      ]
     },
     "execution_count": 1,
     "metadata": {},
     "output_type": "execute_result"
    }
   ],
   "source": [
    "# A simple arithmetic expression to multiply and then add integers\n",
    "\n",
    "(3*4)+5"
   ]
  },
  {
   "cell_type": "code",
   "execution_count": 2,
   "id": "c45b5645-e1c5-4726-83d6-9cbe2a977243",
   "metadata": {},
   "outputs": [
    {
     "data": {
      "text/plain": [
       "3.3333333333333335"
      ]
     },
     "execution_count": 2,
     "metadata": {},
     "output_type": "execute_result"
    }
   ],
   "source": [
    "# This will convert 200 minutes to hours\n",
    "\n",
    "200/60"
   ]
  },
  {
   "cell_type": "markdown",
   "id": "39b67224-6708-4896-a036-52b0c69f87d7",
   "metadata": {},
   "source": [
    "## Author\n",
    "Krishaan Gannavarapu"
   ]
  },
  {
   "cell_type": "code",
   "execution_count": null,
   "id": "9bc02e9d-d416-473b-a866-186a20d1cc88",
   "metadata": {},
   "outputs": [],
   "source": []
  }
 ],
 "metadata": {
  "kernelspec": {
   "display_name": "Python 3 (ipykernel)",
   "language": "python",
   "name": "python3"
  },
  "language_info": {
   "codemirror_mode": {
    "name": "ipython",
    "version": 3
   },
   "file_extension": ".py",
   "mimetype": "text/x-python",
   "name": "python",
   "nbconvert_exporter": "python",
   "pygments_lexer": "ipython3",
   "version": "3.12.8"
  }
 },
 "nbformat": 4,
 "nbformat_minor": 5
}
